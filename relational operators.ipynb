{
 "cells": [
  {
   "cell_type": "code",
   "execution_count": 2,
   "metadata": {},
   "outputs": [
    {
     "data": {
      "text/plain": [
       "'A'"
      ]
     },
     "execution_count": 2,
     "metadata": {},
     "output_type": "execute_result"
    }
   ],
   "source": [
    "chr(65)"
   ]
  },
  {
   "cell_type": "code",
   "execution_count": 9,
   "metadata": {},
   "outputs": [
    {
     "data": {
      "text/plain": [
       "106"
      ]
     },
     "execution_count": 9,
     "metadata": {},
     "output_type": "execute_result"
    }
   ],
   "source": [
    "ord('j')"
   ]
  },
  {
   "cell_type": "code",
   "execution_count": 6,
   "metadata": {},
   "outputs": [
    {
     "name": "stdout",
     "output_type": "stream",
     "text": [
      "65 ----> A\n",
      "66 ----> B\n",
      "67 ----> C\n",
      "68 ----> D\n",
      "69 ----> E\n",
      "70 ----> F\n",
      "71 ----> G\n",
      "72 ----> H\n",
      "73 ----> I\n",
      "74 ----> J\n",
      "75 ----> K\n",
      "76 ----> L\n",
      "77 ----> M\n",
      "78 ----> N\n",
      "79 ----> O\n",
      "80 ----> P\n",
      "81 ----> Q\n",
      "82 ----> R\n",
      "83 ----> S\n",
      "84 ----> T\n",
      "85 ----> U\n",
      "86 ----> V\n",
      "87 ----> W\n",
      "88 ----> X\n",
      "89 ----> Y\n"
     ]
    }
   ],
   "source": [
    "for val in range(65,90):\n",
    "    print(val,'---->',chr(val))"
   ]
  },
  {
   "cell_type": "code",
   "execution_count": 8,
   "metadata": {},
   "outputs": [
    {
     "name": "stdout",
     "output_type": "stream",
     "text": [
      "95 ----> _\n",
      "96 ----> `\n",
      "97 ----> a\n",
      "98 ----> b\n",
      "99 ----> c\n",
      "100 ----> d\n",
      "101 ----> e\n",
      "102 ----> f\n",
      "103 ----> g\n",
      "104 ----> h\n",
      "105 ----> i\n",
      "106 ----> j\n",
      "107 ----> k\n",
      "108 ----> l\n",
      "109 ----> m\n",
      "110 ----> n\n",
      "111 ----> o\n",
      "112 ----> p\n",
      "113 ----> q\n",
      "114 ----> r\n",
      "115 ----> s\n",
      "116 ----> t\n",
      "117 ----> u\n",
      "118 ----> v\n",
      "119 ----> w\n",
      "120 ----> x\n",
      "121 ----> y\n",
      "122 ----> z\n",
      "123 ----> {\n",
      "124 ----> |\n"
     ]
    }
   ],
   "source": [
    "for val in range(95,125):\n",
    "    print(val,'---->',chr(val))"
   ]
  },
  {
   "cell_type": "code",
   "execution_count": 10,
   "metadata": {},
   "outputs": [
    {
     "data": {
      "text/plain": [
       "True"
      ]
     },
     "execution_count": 10,
     "metadata": {},
     "output_type": "execute_result"
    }
   ],
   "source": [
    "'python'>'PYTHON'"
   ]
  },
  {
   "cell_type": "code",
   "execution_count": 11,
   "metadata": {},
   "outputs": [
    {
     "data": {
      "text/plain": [
       "True"
      ]
     },
     "execution_count": 11,
     "metadata": {},
     "output_type": "execute_result"
    }
   ],
   "source": [
    "'python'>'Python'"
   ]
  },
  {
   "cell_type": "code",
   "execution_count": 17,
   "metadata": {},
   "outputs": [
    {
     "data": {
      "text/plain": [
       "False"
      ]
     },
     "execution_count": 17,
     "metadata": {},
     "output_type": "execute_result"
    }
   ],
   "source": [
    "#same letters\n",
    "'this' == 'thsi'"
   ]
  },
  {
   "cell_type": "code",
   "execution_count": 18,
   "metadata": {},
   "outputs": [
    {
     "data": {
      "text/plain": [
       "True"
      ]
     },
     "execution_count": 18,
     "metadata": {},
     "output_type": "execute_result"
    }
   ],
   "source": [
    "#same letters\n",
    "'this' == 'this'"
   ]
  },
  {
   "cell_type": "code",
   "execution_count": 13,
   "metadata": {},
   "outputs": [
    {
     "data": {
      "text/plain": [
       "False"
      ]
     },
     "execution_count": 13,
     "metadata": {},
     "output_type": "execute_result"
    }
   ],
   "source": [
    "'ehro'>'hero'"
   ]
  },
  {
   "cell_type": "code",
   "execution_count": 14,
   "metadata": {},
   "outputs": [
    {
     "data": {
      "text/plain": [
       "False"
      ]
     },
     "execution_count": 14,
     "metadata": {},
     "output_type": "execute_result"
    }
   ],
   "source": [
    "#length of apple > length of blue\n",
    "'apple'>'blue'"
   ]
  }
 ],
 "metadata": {
  "kernelspec": {
   "display_name": "base",
   "language": "python",
   "name": "python3"
  },
  "language_info": {
   "codemirror_mode": {
    "name": "ipython",
    "version": 3
   },
   "file_extension": ".py",
   "mimetype": "text/x-python",
   "name": "python",
   "nbconvert_exporter": "python",
   "pygments_lexer": "ipython3",
   "version": "3.9.19"
  }
 },
 "nbformat": 4,
 "nbformat_minor": 2
}
